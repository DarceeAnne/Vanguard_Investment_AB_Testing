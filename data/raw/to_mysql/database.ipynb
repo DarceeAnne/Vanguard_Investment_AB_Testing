{
 "cells": [
  {
   "cell_type": "code",
   "execution_count": 1,
   "metadata": {},
   "outputs": [],
   "source": [
    "import pandas as pd\n",
    "from sqlalchemy import create_engine,text\n",
    "import pymysql.cursors\n",
    "import os\n",
    "# import getpass\n",
    "import urllib.parse"
   ]
  },
  {
   "cell_type": "code",
   "execution_count": null,
   "metadata": {},
   "outputs": [],
   "source": [
    "pw_raw = os.getenv('mysql_xt')\n",
    "pw = urllib.parse.quote_plus(pw_raw)"
   ]
  },
  {
   "cell_type": "markdown",
   "metadata": {},
   "source": [
    "# python --> mysql"
   ]
  },
  {
   "cell_type": "code",
   "execution_count": null,
   "metadata": {},
   "outputs": [],
   "source": [
    "connection_string = 'mysql+pymysql://root:' + pw + '@127.0.0.1:3306/'\n",
    "engine = create_engine(connection_string)"
   ]
  },
  {
   "cell_type": "code",
   "execution_count": null,
   "metadata": {},
   "outputs": [],
   "source": [
    "with engine.connect() as conn:\n",
    "    conn.execute(text(\"CREATE DATABASE IF NOT EXISTS project_ab_testing\"))"
   ]
  },
  {
   "cell_type": "code",
   "execution_count": null,
   "metadata": {},
   "outputs": [],
   "source": [
    "client_prof=pd.read_csv('df_final_demo.txt')\n",
    "client_prof.to_sql('client_profile',engine, 'project_ab_testing', if_exists='replace', index=False)"
   ]
  },
  {
   "cell_type": "code",
   "execution_count": null,
   "metadata": {},
   "outputs": [],
   "source": [
    "experiment_roster=pd.read_csv('df_final_experiment_clients.txt')\n",
    "experiment_roster.to_sql('experiment_roster',engine, 'project_ab_testing', if_exists='replace', index=False)"
   ]
  },
  {
   "cell_type": "code",
   "execution_count": null,
   "metadata": {},
   "outputs": [],
   "source": [
    "experiment_roster_no_null=experiment_roster.dropna()\n",
    "experiment_roster_no_null.to_sql('experiment_roster_no_null',engine, 'project_ab_testing', if_exists='replace', index=False)"
   ]
  },
  {
   "cell_type": "code",
   "execution_count": null,
   "metadata": {},
   "outputs": [],
   "source": [
    "pt1=pd.read_csv('df_final_web_data_pt_1.txt')\n",
    "pt2=pd.read_csv('df_final_web_data_pt_2.txt')\n",
    "digital_footprints = pd.concat([pt1,pt2])\n",
    "digital_footprints = digital_footprints[~digital_footprints.duplicated()]\n",
    "digital_footprints.to_sql('digital_footprints',engine, 'project_ab_testing', if_exists='replace', index=False)"
   ]
  },
  {
   "cell_type": "code",
   "execution_count": null,
   "metadata": {},
   "outputs": [],
   "source": [
    "df_with_variation = digital_footprints.merge(experiment_roster, on='client_id', how='left').sort_values(by=\"date_time\")\n",
    "test_group = df_with_variation[df_with_variation['Variation'] == 'Test']\n",
    "test_group.to_sql('test_group',engine, 'project_ab_testing', if_exists='replace', index=False)\n",
    "control_group = df_with_variation[df_with_variation['Variation'] == 'Control']\n",
    "control_group.to_sql('control_group',engine, 'project_ab_testing', if_exists='replace', index=False)"
   ]
  },
  {
   "cell_type": "code",
   "execution_count": null,
   "metadata": {},
   "outputs": [],
   "source": [
    "summary_table=pd.read_csv('summary_table.csv')\n",
    "summary_table.to_sql('summary_table',engine, 'project_ab_testing', if_exists='replace', index=False)"
   ]
  },
  {
   "cell_type": "code",
   "execution_count": null,
   "metadata": {},
   "outputs": [],
   "source": [
    "test_group=pd.read_csv('test_group.csv')\n",
    "test_group.to_sql('test_group',engine, 'project_ab_testing', if_exists='replace', index=False)\n",
    "control_group=pd.read_csv('control_group.csv')\n",
    "control_group.to_sql('control_group',engine, 'project_ab_testing', if_exists='replace', index=False)"
   ]
  },
  {
   "cell_type": "markdown",
   "metadata": {},
   "source": [
    "# mysql -- > python"
   ]
  },
  {
   "cell_type": "code",
   "execution_count": null,
   "metadata": {},
   "outputs": [],
   "source": [
    "db='project_ab_testing'\n",
    "connection_string = 'mysql+pymysql://root:' + pw + '@127.0.0.1:3306/'+db\n",
    "engine = create_engine(connection_string)"
   ]
  },
  {
   "cell_type": "code",
   "execution_count": null,
   "metadata": {},
   "outputs": [],
   "source": [
    "with engine.connect() as connection:\n",
    "    query = text('SELECT * FROM df_with_variation_clean')\n",
    "    result = connection.execute(query)\n",
    "    df_with_variation_clean = pd.DataFrame(result.all())"
   ]
  },
  {
   "cell_type": "code",
   "execution_count": null,
   "metadata": {},
   "outputs": [],
   "source": [
    "df_with_variation_clean.nunique()"
   ]
  },
  {
   "cell_type": "code",
   "execution_count": null,
   "metadata": {},
   "outputs": [],
   "source": [
    "with engine.connect() as connection:\n",
    "    query = text('SELECT * FROM each_step_count')\n",
    "    result = connection.execute(query)\n",
    "    each_step_count = pd.DataFrame(result.all())"
   ]
  },
  {
   "cell_type": "code",
   "execution_count": null,
   "metadata": {},
   "outputs": [],
   "source": [
    "each_step_count  # here visit_id all unique --> 69205 rows"
   ]
  },
  {
   "cell_type": "code",
   "execution_count": null,
   "metadata": {},
   "outputs": [],
   "source": [
    "with engine.connect() as connection:\n",
    "    query = text('SELECT * FROM number_visits_per_client')\n",
    "    result = connection.execute(query)\n",
    "    number_visits_per_client = pd.DataFrame(result.all())"
   ]
  },
  {
   "cell_type": "code",
   "execution_count": null,
   "metadata": {},
   "outputs": [],
   "source": [
    "number_visits_per_client"
   ]
  },
  {
   "cell_type": "code",
   "execution_count": null,
   "metadata": {},
   "outputs": [],
   "source": [
    "with engine.connect() as connection:\n",
    "    query = text('SELECT * FROM last_process_step')\n",
    "    result = connection.execute(query)\n",
    "    last_process_step = pd.DataFrame(result.all())"
   ]
  },
  {
   "cell_type": "code",
   "execution_count": null,
   "metadata": {},
   "outputs": [],
   "source": [
    "last_process_step"
   ]
  },
  {
   "cell_type": "code",
   "execution_count": null,
   "metadata": {},
   "outputs": [],
   "source": [
    "all_data_for_step = pd.merge(each_step_count,last_process_step,on=['visit_id','visitor_id'],how='left')"
   ]
  },
  {
   "cell_type": "code",
   "execution_count": null,
   "metadata": {},
   "outputs": [],
   "source": [
    "all_data_for_step #.sort_values('client_id')"
   ]
  },
  {
   "cell_type": "code",
   "execution_count": null,
   "metadata": {},
   "outputs": [],
   "source": [
    "all_data_for_step.nunique()"
   ]
  },
  {
   "cell_type": "code",
   "execution_count": null,
   "metadata": {},
   "outputs": [],
   "source": [
    "all_visit_data=pd.merge(number_visits_per_client,all_data_for_step,on=['client_id', 'variation'],how='inner').sort_values('client_id')"
   ]
  },
  {
   "cell_type": "code",
   "execution_count": null,
   "metadata": {},
   "outputs": [],
   "source": [
    "# add column to check if last_step is \"confirm\"\n",
    "all_visit_data['last_step_confirm'] = all_visit_data['last_process_step'].apply(lambda x: 1 if x == 'confirm' else 0)"
   ]
  },
  {
   "cell_type": "code",
   "execution_count": null,
   "metadata": {},
   "outputs": [],
   "source": [
    "# add column \"step_hierarchy\"\n",
    "def highest_step(row):\n",
    "    if row['confirm_count'] > 0:\n",
    "        return 'confirm'\n",
    "    elif row['step_2_count'] > 0:\n",
    "        return 'step_2'\n",
    "    elif row['step_1_count'] > 0:\n",
    "        return 'step_1'\n",
    "    elif row['start_count'] > 0:\n",
    "        return 'start'\n",
    "    else:\n",
    "        return None\n",
    "\n",
    "all_visit_data['step_hierarchy'] = all_visit_data.apply(highest_step, axis=1)"
   ]
  },
  {
   "cell_type": "code",
   "execution_count": null,
   "metadata": {},
   "outputs": [],
   "source": [
    "# add column to check if step_hierarchy is \"confirm\", which means task completed \n",
    "all_visit_data['if_confirm'] = all_visit_data['step_hierarchy'].apply(lambda x: 1 if x == 'confirm' else 0)"
   ]
  },
  {
   "cell_type": "code",
   "execution_count": null,
   "metadata": {},
   "outputs": [],
   "source": [
    "all_visit_data #.head(50)"
   ]
  },
  {
   "cell_type": "code",
   "execution_count": null,
   "metadata": {},
   "outputs": [],
   "source": [
    "# export test_group frame to CSV\n",
    "\n",
    "# Get the current working directory\n",
    "current_directory = os.getcwd()\n",
    "\n",
    "# Specify the file name\n",
    "file_name = \"all_visit_steps.csv\"\n",
    "\n",
    "# Join the current directory with the file name to create the file path\n",
    "file_path = os.path.join(current_directory, file_name)\n",
    "\n",
    "# Export the summary_table DataFrame to a CSV file\n",
    "all_visit_data.to_csv(file_path, index=False)\n",
    "\n",
    "print(f\"Test group table has been exported to {file_path}\")"
   ]
  },
  {
   "cell_type": "code",
   "execution_count": null,
   "metadata": {},
   "outputs": [],
   "source": [
    "has_duplicates = all_visit_data.duplicated().any()\n",
    "\n",
    "if has_duplicates:\n",
    "    print(\"row duplicated exist.\")\n",
    "else:\n",
    "    print(\"row duplicated not exist.\")"
   ]
  },
  {
   "cell_type": "code",
   "execution_count": null,
   "metadata": {},
   "outputs": [],
   "source": [
    "test_group_step = all_visit_data[all_visit_data['variation'] == 'Test']\n",
    "test_group_step"
   ]
  },
  {
   "cell_type": "code",
   "execution_count": null,
   "metadata": {},
   "outputs": [],
   "source": [
    "test_group_step.nunique()"
   ]
  },
  {
   "cell_type": "code",
   "execution_count": null,
   "metadata": {},
   "outputs": [],
   "source": [
    "control_group_step = all_visit_data[all_visit_data['variation'] == 'Control']\n",
    "control_group_step"
   ]
  },
  {
   "cell_type": "code",
   "execution_count": null,
   "metadata": {},
   "outputs": [],
   "source": [
    "control_group_step.nunique()"
   ]
  },
  {
   "cell_type": "code",
   "execution_count": null,
   "metadata": {},
   "outputs": [],
   "source": [
    "all_visit_data.to_sql('all_visit_data',engine, 'project_ab_testing', if_exists='replace', index=False)\n",
    "test_group_step.to_sql('test_group_step',engine, 'project_ab_testing', if_exists='replace', index=False)\n",
    "control_group_step.to_sql('control_group_step',engine, 'project_ab_testing', if_exists='replace', index=False)"
   ]
  },
  {
   "cell_type": "markdown",
   "metadata": {},
   "source": [
    "# Problems encountered:\n",
    "- two different process_step with same time_stamp\n",
    "- same visitor_id/visit_id for two different client_id\n"
   ]
  },
  {
   "cell_type": "code",
   "execution_count": null,
   "metadata": {},
   "outputs": [],
   "source": [
    "# two different process_step with same time_stamp, ex\n",
    "all_visit_data[all_visit_data['visit_id']=='377986493_6391607481_598681']"
   ]
  },
  {
   "cell_type": "code",
   "execution_count": null,
   "metadata": {},
   "outputs": [],
   "source": [
    "# same visitor_id/visit_id for two different client_id, ex -> same variation\n",
    "all_visit_data[all_visit_data['visit_id']=='30714723_53564046699_567312']"
   ]
  },
  {
   "cell_type": "code",
   "execution_count": null,
   "metadata": {},
   "outputs": [],
   "source": [
    "# same visitor_id/visit_id for two different client_id, ex -> different variation\n",
    "all_visit_data[all_visit_data['visit_id']=='92588242_2876965505_25554']"
   ]
  },
  {
   "cell_type": "code",
   "execution_count": null,
   "metadata": {},
   "outputs": [],
   "source": [
    "visit_id_counts1 = each_step_count['visit_id'].value_counts()\n",
    "\n",
    "duplicate_visit_ids1 = visit_id_counts1[visit_id_counts1 > 1].index.tolist()\n",
    "\n",
    "for visit_id in duplicate_visit_ids1:\n",
    "    num_occurrences1 = visit_id_counts1[visit_id]\n",
    "    print(f\"Visit ID: {visit_id}, Num Occurrences: {num_occurrences1}\")\n"
   ]
  },
  {
   "cell_type": "code",
   "execution_count": null,
   "metadata": {},
   "outputs": [],
   "source": [
    "visit_id_counts2 = last_process_step['visit_id'].value_counts()\n",
    "\n",
    "duplicate_visit_ids2 = visit_id_counts2[visit_id_counts2 > 1].index.tolist()\n",
    "\n",
    "for visit_id in duplicate_visit_ids2:\n",
    "    num_occurrences2 = visit_id_counts2[visit_id]\n",
    "    print(f\"Visit ID: {visit_id}, Num Occurrences: {num_occurrences2}\")"
   ]
  },
  {
   "cell_type": "markdown",
   "metadata": {},
   "source": [
    "-  For bounce rate : how to define a \"bounce\" action ?\n",
    "   - highest step reached \n",
    "   - last step before leaving (I used this one to calculate, but not sure)\n",
    "-  Total number of visits : all visits or all clients ? (all visits maybe)"
   ]
  },
  {
   "cell_type": "code",
   "execution_count": null,
   "metadata": {},
   "outputs": [],
   "source": [
    "test_group_step['last_process_step'].value_counts()"
   ]
  },
  {
   "cell_type": "code",
   "execution_count": null,
   "metadata": {},
   "outputs": [],
   "source": [
    "test_group_step['step_hierarchy'].value_counts()"
   ]
  },
  {
   "cell_type": "code",
   "execution_count": null,
   "metadata": {},
   "outputs": [],
   "source": [
    "control_group_step['last_process_step'].value_counts()"
   ]
  },
  {
   "cell_type": "code",
   "execution_count": null,
   "metadata": {},
   "outputs": [],
   "source": [
    "control_group_step['step_hierarchy'].value_counts()"
   ]
  },
  {
   "cell_type": "code",
   "execution_count": null,
   "metadata": {},
   "outputs": [],
   "source": [
    "# number of clients\n",
    "num_clients_test_group = test_group_step['client_id'].nunique()\n",
    "print('Total number of clients for test group :', num_clients_test_group)\n",
    "num_clients_control_group = control_group_step['client_id'].nunique()\n",
    "print('Total number of clients for control group :', num_clients_control_group)"
   ]
  },
  {
   "cell_type": "markdown",
   "metadata": {},
   "source": [
    "# Calculation of completion rate"
   ]
  },
  {
   "cell_type": "code",
   "execution_count": null,
   "metadata": {},
   "outputs": [],
   "source": [
    "total_num_visit_test_group = test_group_step['visit_id'].nunique()\n",
    "print('Total number of visits for test group :',total_num_visit_test_group) "
   ]
  },
  {
   "cell_type": "code",
   "execution_count": null,
   "metadata": {},
   "outputs": [],
   "source": [
    "control_num_visit_test_group = control_group_step['visit_id'].nunique()\n",
    "print('Total number of visits for test group :',total_num_visit_control_group) "
   ]
  },
  {
   "cell_type": "code",
   "execution_count": null,
   "metadata": {},
   "outputs": [],
   "source": [
    "# number of confirm for test group\n",
    "confirm_count_test = test_group_step[test_group_step['if_confirm'] == 1]['if_confirm'].sum()\n",
    "print(\"Confirm count for test group:\", confirm_count_test)\n",
    "# completion rate of test group\n",
    "confirm_rate_test = (confirm_count_test / total_num_visit_test_group) * 100\n",
    "print(\"Completion rate of test group:\", round(confirm_rate_test,2), \"%\")"
   ]
  },
  {
   "cell_type": "code",
   "execution_count": null,
   "metadata": {},
   "outputs": [],
   "source": [
    "# number of confirm for control group\n",
    "confirm_count_control = control_group_step[control_group_step['if_confirm'] == 1]['if_confirm'].sum()\n",
    "print(\"Confirm count for control group:\", confirm_count_control)\n",
    "# completion rate of control group\n",
    "confirm_rate_control = (confirm_count_control / total_num_visit_control_group) * 100\n",
    "print(\"Completion rate of control group:\", round(confirm_rate_control,2), \"%\")"
   ]
  },
  {
   "cell_type": "markdown",
   "metadata": {},
   "source": [
    "# Calculation of \"stop step\" rate\n",
    "- --> from which step the customers cannot go further (per visit)"
   ]
  },
  {
   "cell_type": "code",
   "execution_count": null,
   "metadata": {},
   "outputs": [],
   "source": [
    "# total count of each step in test group \n",
    "counts={}\n",
    "steps = ['start', 'step_1', 'step_2', 'step_3']\n",
    "\n",
    "for step in steps:\n",
    "    counts[step]  = test_group_step[test_group_step['last_process_step'] == step].shape[0]\n",
    "    print(f\"{step.upper()} count in test group:\", counts[step])\n",
    "\n",
    "start_count_test = counts['start']\n",
    "step_1_count_test = counts['step_1']\n",
    "step_2_count_test = counts['step_2']\n",
    "step_3_count_test = counts['step_3']"
   ]
  },
  {
   "cell_type": "code",
   "execution_count": null,
   "metadata": {},
   "outputs": [],
   "source": [
    "# calculate bounce rate for each step in test group\n",
    "stop_rates = {}\n",
    "\n",
    "for step in steps:\n",
    "    stop_rate = (counts[step] / total_num_visit_test_group) * 100\n",
    "    stop_rates[step] = stop_rate\n",
    "\n",
    "for step, stop_rate in stop_rates.items():\n",
    "    print(f\"Stop rate for the '{step}' step in test group:\", round(stop_rate, 2), \"%\")"
   ]
  },
  {
   "cell_type": "code",
   "execution_count": null,
   "metadata": {},
   "outputs": [],
   "source": [
    "# total count of each step in control group \n",
    "counts2={}\n",
    "steps2 = ['start', 'step_1', 'step_2', 'step_3']\n",
    "\n",
    "for step in steps2:\n",
    "    counts2[step]  = control_group_step[control_group_step['last_process_step'] == step].shape[0]\n",
    "    print(f\"{step.upper()} count in test group:\", counts2[step])\n",
    "\n",
    "start_count_control = counts2['start']\n",
    "step_1_count_control = counts2['step_1']\n",
    "step_2_count_control = counts2['step_2']\n",
    "step_3_count_control = counts2['step_3']"
   ]
  },
  {
   "cell_type": "code",
   "execution_count": null,
   "metadata": {},
   "outputs": [],
   "source": [
    "# calculate bounce rate for each step in control group\n",
    "stop_rates2 = {}\n",
    "\n",
    "for step in steps2:\n",
    "    stop_rate2 = (counts2[step] / total_num_visit_control_group) * 100\n",
    "    stop_rates2[step] = stop_rate2\n",
    "\n",
    "for step, stop_rate in stop_rates2.items():\n",
    "    print(f\"Stop rate for the '{step}' step in control group:\", round(stop_rate, 2), \"%\")"
   ]
  },
  {
   "cell_type": "markdown",
   "metadata": {},
   "source": [
    "# Bounce rate\n",
    "- --> the number of customers who only have \"start\" step (per visit)"
   ]
  },
  {
   "cell_type": "code",
   "execution_count": null,
   "metadata": {},
   "outputs": [],
   "source": [
    "all_visit_steps=pd.read_csv('all_visit_steps.csv')"
   ]
  },
  {
   "cell_type": "code",
   "execution_count": null,
   "metadata": {},
   "outputs": [],
   "source": [
    "all_visit_steps"
   ]
  },
  {
   "cell_type": "code",
   "execution_count": null,
   "metadata": {},
   "outputs": [],
   "source": [
    "columns_to_drop = ['visitor_id', 'last_step_confirm','step_hierarchy','if_confirm']\n",
    "all_visit_steps = all_visit_steps.drop(columns=columns_to_drop)"
   ]
  },
  {
   "cell_type": "code",
   "execution_count": null,
   "metadata": {},
   "outputs": [],
   "source": [
    "all_visit_steps"
   ]
  },
  {
   "cell_type": "code",
   "execution_count": null,
   "metadata": {},
   "outputs": [],
   "source": [
    "summary_table=pd.read_csv('summary_table.csv')\n",
    "summary_table"
   ]
  },
  {
   "cell_type": "code",
   "execution_count": null,
   "metadata": {},
   "outputs": [],
   "source": [
    "df_merged = pd.merge(all_visit_steps, summary_table[['client_id', 'step_hierarchy']], on='client_id')"
   ]
  },
  {
   "cell_type": "code",
   "execution_count": null,
   "metadata": {},
   "outputs": [],
   "source": [
    "all_visit_steps=df_merged.copy()"
   ]
  },
  {
   "cell_type": "code",
   "execution_count": null,
   "metadata": {},
   "outputs": [],
   "source": []
  },
  {
   "cell_type": "code",
   "execution_count": null,
   "metadata": {},
   "outputs": [],
   "source": [
    "# export test_group frame to CSV\n",
    "\n",
    "# Get the current working directory\n",
    "current_directory = os.getcwd()\n",
    "\n",
    "# Specify the file name\n",
    "file_name = \"all_visit_steps_final.csv\"\n",
    "\n",
    "# Join the current directory with the file name to create the file path\n",
    "file_path = os.path.join(current_directory, file_name)\n",
    "\n",
    "# Export the summary_table DataFrame to a CSV file\n",
    "all_visit_steps.to_csv(file_path, index=False)\n",
    "\n",
    "print(f\"Test group table has been exported to {file_path}\")"
   ]
  },
  {
   "cell_type": "code",
   "execution_count": 2,
   "metadata": {},
   "outputs": [],
   "source": [
    "all_visit_steps=pd.read_csv('all_visit_steps_final.csv')"
   ]
  },
  {
   "cell_type": "code",
   "execution_count": 3,
   "metadata": {},
   "outputs": [],
   "source": [
    "test_group_step = all_visit_steps[all_visit_steps['variation'] == 'Test']\n",
    "control_group_step = all_visit_steps[all_visit_steps['variation'] == 'Control']"
   ]
  },
  {
   "cell_type": "code",
   "execution_count": 4,
   "metadata": {},
   "outputs": [
    {
     "name": "stdout",
     "output_type": "stream",
     "text": [
      "Total number of visits for test group : 37136\n",
      "Total number of visits for test group : 32189\n"
     ]
    }
   ],
   "source": [
    "total_num_visit_test_group = test_group_step['visit_id'].nunique()\n",
    "print('Total number of visits for test group :',total_num_visit_test_group) \n",
    "total_num_visit_control_group = control_group_step['visit_id'].nunique()\n",
    "print('Total number of visits for test group :',total_num_visit_control_group) "
   ]
  },
  {
   "cell_type": "code",
   "execution_count": null,
   "metadata": {},
   "outputs": [],
   "source": [
    "test_group_step"
   ]
  },
  {
   "cell_type": "code",
   "execution_count": 5,
   "metadata": {},
   "outputs": [
    {
     "name": "stdout",
     "output_type": "stream",
     "text": [
      "Bounce rate of test group: 7.48 %\n"
     ]
    }
   ],
   "source": [
    "only_start_test=test_group_step[test_group_step['step_hierarchy']==1]\n",
    "num_bounce_test=len(only_start_test)\n",
    "# print('Number of bounce for test group:',num_bounce_test)\n",
    "bounce_rate_test = (num_bounce_test / total_num_visit_test_group) * 100\n",
    "print(\"Bounce rate of test group:\", round(bounce_rate_test,2), \"%\")"
   ]
  },
  {
   "cell_type": "code",
   "execution_count": 6,
   "metadata": {},
   "outputs": [
    {
     "name": "stdout",
     "output_type": "stream",
     "text": [
      "Bounce rate of control group: 11.26 %\n"
     ]
    }
   ],
   "source": [
    "only_start_control=control_group_step[control_group_step['step_hierarchy']==1]\n",
    "num_bounce_control=len(only_start_control)\n",
    "# print('Number of bounce for control group:',num_bounce_control)\n",
    "bounce_rate_control = (num_bounce_control / total_num_visit_control_group) * 100\n",
    "print(\"Bounce rate of control group:\", round(bounce_rate_control,2), \"%\")"
   ]
  }
 ],
 "metadata": {
  "kernelspec": {
   "display_name": "Python 3",
   "language": "python",
   "name": "python3"
  },
  "language_info": {
   "codemirror_mode": {
    "name": "ipython",
    "version": 3
   },
   "file_extension": ".py",
   "mimetype": "text/x-python",
   "name": "python",
   "nbconvert_exporter": "python",
   "pygments_lexer": "ipython3",
   "version": "3.12.0"
  }
 },
 "nbformat": 4,
 "nbformat_minor": 2
}
