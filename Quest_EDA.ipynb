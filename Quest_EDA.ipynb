{
 "cells": [
  {
   "cell_type": "markdown",
   "metadata": {},
   "source": [
    "### Loading the Data from .txt files & converting to data frames. ###"
   ]
  },
  {
   "cell_type": "code",
   "execution_count": 10,
   "metadata": {},
   "outputs": [],
   "source": [
    "import pandas as pd\n",
    "import numpy as np\n",
    "import matplotlib.pyplot as plt\n",
    "import seaborn as sns"
   ]
  },
  {
   "cell_type": "code",
   "execution_count": 21,
   "metadata": {},
   "outputs": [
    {
     "name": "stdout",
     "output_type": "stream",
     "text": [
      "   client_id  clnt_tenure_yr  clnt_tenure_mnth  clnt_age gendr  num_accts  \\\n",
      "0     836976             6.0              73.0      60.5     U        2.0   \n",
      "1    2304905             7.0              94.0      58.0     U        2.0   \n",
      "2    1439522             5.0              64.0      32.0     U        2.0   \n",
      "3    1562045            16.0             198.0      49.0     M        2.0   \n",
      "4    5126305            12.0             145.0      33.0     F        2.0   \n",
      "\n",
      "         bal  calls_6_mnth  logons_6_mnth  \n",
      "0   45105.30           6.0            9.0  \n",
      "1  110860.30           6.0            9.0  \n",
      "2   52467.79           6.0            9.0  \n",
      "3   67454.65           3.0            6.0  \n",
      "4  103671.75           0.0            3.0  \n",
      "(70609, 9)\n",
      "client_id             int64\n",
      "clnt_tenure_yr      float64\n",
      "clnt_tenure_mnth    float64\n",
      "clnt_age            float64\n",
      "gendr                object\n",
      "num_accts           float64\n",
      "bal                 float64\n",
      "calls_6_mnth        float64\n",
      "logons_6_mnth       float64\n",
      "dtype: object\n"
     ]
    }
   ],
   "source": [
    "client_info = pd.read_csv('df_final_demo.txt')\n",
    "\n",
    "print(client_info.head()) \n",
    "print(client_info.shape)\n",
    "print(client_info.dtypes)\n",
    "\n",
    "# This data set includes general customer information.\n",
    "# There are 70609 rows & 9 columns: client_id, clnt_tenure_yr, clnt_tenure_mnth, clnt_age, \n",
    "# gendr, num_accts, bal, calls_6_month, logons_6_mnth."
   ]
  },
  {
   "cell_type": "code",
   "execution_count": 23,
   "metadata": {},
   "outputs": [
    {
     "data": {
      "text/plain": [
       "client_id            0\n",
       "clnt_tenure_yr      14\n",
       "clnt_tenure_mnth    14\n",
       "clnt_age            15\n",
       "gendr               14\n",
       "num_accts           14\n",
       "bal                 14\n",
       "calls_6_mnth        14\n",
       "logons_6_mnth       14\n",
       "dtype: int64"
      ]
     },
     "execution_count": 23,
     "metadata": {},
     "output_type": "execute_result"
    }
   ],
   "source": [
    "client_info.isna().sum()"
   ]
  },
  {
   "cell_type": "code",
   "execution_count": 22,
   "metadata": {},
   "outputs": [
    {
     "name": "stdout",
     "output_type": "stream",
     "text": [
      "   client_id Variation\n",
      "0    9988021      Test\n",
      "1    8320017      Test\n",
      "2    4033851   Control\n",
      "3    1982004      Test\n",
      "4    9294070   Control\n",
      "(70609, 2)\n",
      "client_id     int64\n",
      "Variation    object\n",
      "dtype: object\n"
     ]
    }
   ],
   "source": [
    "client_test_control = pd.read_csv('df_final_experiment_clients.txt')\n",
    "\n",
    "print(client_test_control.head()) \n",
    "print(client_test_control.shape)\n",
    "print(client_test_control.dtypes)\n",
    "\n",
    "# This data set indicates which customers were in the control group (interacting with Vanguard's legacy user interface),\n",
    "# and which customers were in the test group (interacting with the newly designed interface).\n",
    "# There are two columns: client_id and Variation (Test, Control)."
   ]
  },
  {
   "cell_type": "code",
   "execution_count": 13,
   "metadata": {},
   "outputs": [
    {
     "name": "stdout",
     "output_type": "stream",
     "text": [
      "   client_id            visitor_id                      visit_id process_step  \\\n",
      "0    9988021  580560515_7732621733  781255054_21935453173_531117       step_3   \n",
      "1    9988021  580560515_7732621733  781255054_21935453173_531117       step_2   \n",
      "2    9988021  580560515_7732621733  781255054_21935453173_531117       step_3   \n",
      "3    9988021  580560515_7732621733  781255054_21935453173_531117       step_2   \n",
      "4    9988021  580560515_7732621733  781255054_21935453173_531117       step_3   \n",
      "\n",
      "             date_time  \n",
      "0  2017-04-17 15:27:07  \n",
      "1  2017-04-17 15:26:51  \n",
      "2  2017-04-17 15:19:22  \n",
      "3  2017-04-17 15:19:13  \n",
      "4  2017-04-17 15:18:04  \n",
      "(343141, 5)\n"
     ]
    }
   ],
   "source": [
    "web_session_data_1 = pd.read_csv('df_final_web_data_pt_1.txt')\n",
    "\n",
    "print(web_session_data_1.head()) \n",
    "print(web_session_data_1.shape)\n",
    "\n",
    "# This data set appears to report information about client sessions as logged on to the platform. There are 300k+ rows, so we can assume\n",
    "# that one client could have logged on many times. The next data set (web_session_data_2) appears to have the same information.\n",
    "# It is likely that these two sets are made up of the clients in the two groups (test & control), but this must be confirmed."
   ]
  },
  {
   "cell_type": "code",
   "execution_count": 14,
   "metadata": {},
   "outputs": [
    {
     "name": "stdout",
     "output_type": "stream",
     "text": [
      "   client_id             visitor_id                      visit_id  \\\n",
      "0     763412  601952081_10457207388  397475557_40440946728_419634   \n",
      "1    6019349  442094451_91531546617  154620534_35331068705_522317   \n",
      "2    6019349  442094451_91531546617  154620534_35331068705_522317   \n",
      "3    6019349  442094451_91531546617  154620534_35331068705_522317   \n",
      "4    6019349  442094451_91531546617  154620534_35331068705_522317   \n",
      "\n",
      "  process_step            date_time  \n",
      "0      confirm  2017-06-06 08:56:00  \n",
      "1      confirm  2017-06-01 11:59:27  \n",
      "2       step_3  2017-06-01 11:58:48  \n",
      "3       step_2  2017-06-01 11:58:08  \n",
      "4       step_1  2017-06-01 11:57:58  \n",
      "(412264, 5)\n"
     ]
    }
   ],
   "source": [
    "web_session_data_2 = pd.read_csv('df_final_web_data_pt_2.txt')\n",
    "\n",
    "print(web_session_data_2.head()) \n",
    "print(web_session_data_2.shape)\n",
    "\n",
    "# This data set appears to report information about client sessions as logged on to the platform. There are 400k+ rows, so we can assume\n",
    "# that one client could have logged on many times. The above data set (web_session_data_1) appears to have the same information.\n",
    "# It is likely that these two sets are made up of the clients in the two groups (test & control), but this must be confirmed."
   ]
  }
 ],
 "metadata": {
  "kernelspec": {
   "display_name": "base",
   "language": "python",
   "name": "python3"
  },
  "language_info": {
   "codemirror_mode": {
    "name": "ipython",
    "version": 3
   },
   "file_extension": ".py",
   "mimetype": "text/x-python",
   "name": "python",
   "nbconvert_exporter": "python",
   "pygments_lexer": "ipython3",
   "version": "3.11.5"
  }
 },
 "nbformat": 4,
 "nbformat_minor": 2
}
