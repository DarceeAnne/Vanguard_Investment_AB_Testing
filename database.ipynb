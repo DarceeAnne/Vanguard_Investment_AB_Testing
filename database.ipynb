{
 "cells": [
  {
   "cell_type": "code",
   "execution_count": null,
   "metadata": {},
   "outputs": [],
   "source": [
    "import pandas as pd\n",
    "from sqlalchemy import create_engine,text\n",
    "import pymysql.cursors\n",
    "import os\n",
    "# import getpass\n",
    "import urllib.parse"
   ]
  },
  {
   "cell_type": "code",
   "execution_count": null,
   "metadata": {},
   "outputs": [],
   "source": [
    "pw_raw = os.getenv('mysql_xt')\n",
    "pw = urllib.parse.quote_plus(pw_raw)"
   ]
  },
  {
   "cell_type": "code",
   "execution_count": null,
   "metadata": {},
   "outputs": [],
   "source": [
    "connection_string = 'mysql+pymysql://root:' + pw + '@127.0.0.1:3306/'\n",
    "engine = create_engine(connection_string)"
   ]
  },
  {
   "cell_type": "code",
   "execution_count": null,
   "metadata": {},
   "outputs": [],
   "source": [
    "with engine.connect() as conn:\n",
    "    conn.execute(text(\"CREATE DATABASE IF NOT EXISTS project_ab_testing\"))"
   ]
  },
  {
   "cell_type": "code",
   "execution_count": null,
   "metadata": {},
   "outputs": [],
   "source": [
    "client_prof=pd.read_csv('df_final_demo.txt')\n",
    "client_prof.to_sql('client_profile',engine, 'project_ab_testing', if_exists='replace', index=False)"
   ]
  },
  {
   "cell_type": "code",
   "execution_count": null,
   "metadata": {},
   "outputs": [],
   "source": [
    "experiment_roster=pd.read_csv('df_final_experiment_clients.txt')\n",
    "experiment_roster.to_sql('experiment_roster',engine, 'project_ab_testing', if_exists='replace', index=False)"
   ]
  },
  {
   "cell_type": "code",
   "execution_count": null,
   "metadata": {},
   "outputs": [],
   "source": [
    "pt1=pd.read_csv('df_final_web_data_pt_1.txt')\n",
    "pt2=pd.read_csv('df_final_web_data_pt_2.txt')\n",
    "digital_footprints = pd.concat([pt1,pt2])\n",
    "digital_footprints = digital_footprints[~digital_footprints.duplicated()]\n",
    "digital_footprints.to_sql('digital_footprints',engine, 'project_ab_testing', if_exists='replace', index=False)"
   ]
  },
  {
   "cell_type": "code",
   "execution_count": null,
   "metadata": {},
   "outputs": [],
   "source": [
    "df_with_variation = digital_footprints.merge(experiment_roster, on='client_id', how='left').sort_values(by=\"date_time\")\n",
    "test_group = df_with_variation[df_with_variation['Variation'] == 'Test']\n",
    "test_group.to_sql('test_group',engine, 'project_ab_testing', if_exists='replace', index=False)\n",
    "control_group = df_with_variation[df_with_variation['Variation'] == 'Control']\n",
    "control_group.to_sql('control_group',engine, 'project_ab_testing', if_exists='replace', index=False)"
   ]
  }
 ],
 "metadata": {
  "kernelspec": {
   "display_name": "Python 3",
   "language": "python",
   "name": "python3"
  },
  "language_info": {
   "codemirror_mode": {
    "name": "ipython",
    "version": 3
   },
   "file_extension": ".py",
   "mimetype": "text/x-python",
   "name": "python",
   "nbconvert_exporter": "python",
   "pygments_lexer": "ipython3",
   "version": "3.12.0"
  }
 },
 "nbformat": 4,
 "nbformat_minor": 2
}
